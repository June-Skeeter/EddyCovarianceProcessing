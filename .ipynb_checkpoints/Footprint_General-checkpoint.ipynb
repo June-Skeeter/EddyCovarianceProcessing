{
 "cells": [
  {
   "cell_type": "code",
   "execution_count": 1,
   "metadata": {
    "collapsed": true
   },
   "outputs": [],
   "source": [
    "%matplotlib notebook\n",
    "import sys\n",
    "import os\n",
    "import numpy as np\n",
    "import pandas as pd\n",
    "from Klujn_2015_FootprinModel.calc_footprint_FFP_climatology_SkeeterEdits import FFP_climatology\n",
    "\n",
    "import geopandas as gpd\n",
    "from shapely.geometry import Point, Polygon, MultiPolygon, shape\n",
    "\n",
    "import rasterio\n",
    "from rasterio import features\n",
    "from rasterio.transform import from_origin\n",
    "from matplotlib import pyplot as plt\n",
    "\n",
    "from shapely.geometry import shape\n",
    "from shapely.geometry import MultiPolygon\n",
    "\n",
    "from geopandas import GeoDataFrame\n",
    "from datetime import datetime\n",
    "import warnings\n",
    "warnings.filterwarnings('ignore')\n",
    "from functools import partial\n",
    "from multiprocessing import Pool\n",
    "import time"
   ]
  },
  {
   "cell_type": "code",
   "execution_count": null,
   "metadata": {
    "scrolled": true
   },
   "outputs": [
    {
     "name": "stdout",
     "output_type": "stream",
     "text": [
      "Go!!!\n"
     ]
    }
   ],
   "source": [
    "Time = time.time()\n",
    "Data = pd.read_csv('C:/Illisarvik/FilteredData2018-04-16.csv')\n",
    "Data = Data.set_index(pd.DatetimeIndex(Data.datetime))\n",
    "Data['Run']=0\n",
    "Data['Zm'] = 2.67\n",
    "print('Go!!!')\n",
    "Axis = 35\n",
    "DateRange=['2016-7-22 10:00:00','2016-7-22 20:30:00']\n",
    "Data.loc[((np.isfinite(Data['Zo'])==True)&np.isfinite(Data['co2_flux'])==True)&(Data['u*']>.1)&(Data.index>DateRange[0])&\n",
    "         ((Data['wind_dir']<Axis+180-30)|(Data['wind_dir']>Axis+180+30)),\n",
    "         ['Run']]=1\n",
    "Data=Data.reset_index(drop=True)\n",
    "Dates = Data['datetime']\n",
    "rs = [50,75,90]\n",
    "dx = 1\n",
    "# XY = [504675.55,7695881.9]\n",
    "XY = [504675.880,7695880.205]\n",
    "# XY = [504675.902,7695880.207]\n",
    "nx = 1000 \n",
    "fp_params={'dx':dx,'nx':nx,'rs':rs}\n",
    "west = XY[0]-(nx*dx)/2\n",
    "north = XY[1]+(nx*dx)/2\n",
    "Transform = from_origin(west,north,dx,dx)\n",
    "with rasterio.open('temp.tif','w',driver='GTiff',width = nx+1, height = nx+1,count = 1,dtype=np.float64,\n",
    "                   affine = Transform,crs = ({'init': 'EPSG:32608'})) as out:\n",
    "    out_arr = out.read(1)\n",
    "    params = out.profile\n",
    "# plt.imshow(out_arr)\n",
    "\n",
    "Run = Data.loc[Data['Run']==1].reset_index().drop(['index'],axis=1)\n",
    "\n",
    "def Run_Func(i,Run,fp_params):\n",
    "    FP = FFP_climatology(zm=[Run['Zm'].iloc[i]],z0=[Run['Zo'].iloc[i]],h=[Run['PBLH'].iloc[i]],\n",
    "                            ol=[Run['L'].iloc[i]],sigmav=[Run['v_var'].iloc[i]],ustar=[Run['u*'].iloc[i]],\n",
    "                            wind_dir=[Run['wind_dir'].iloc[i]],\n",
    "                             **fp_params,\n",
    "                             )\n",
    "    \n",
    "    fpf = np.flipud(FP['fclim_2d'])*dx**2\n",
    "    fpf/=fpf.sum()\n",
    "    return(fpf)\n",
    "\n",
    "if __name__ == '__main__':\n",
    "    pools = 1\n",
    "    pool = Pool(processes=pools)\n",
    "    \n",
    "    for i,var in enumerate(pool.imap(partial(Run_Func,Run=Run,fp_params=fp_params),range(Run.shape[0]))):\n",
    "        print(str((np.round(i/Run.shape[0],3)*100))+' %')\n",
    "        out_arr += var\n",
    "    out_arr /= i\n",
    "    print(out_arr.mean())\n",
    "    plt.figure()\n",
    "    plt.imshow(out_arr)\n",
    "    plt.xlim(nx*.4,nx*.6)\n",
    "    plt.ylim(nx*.4,nx*.6)\n",
    "    pool.close()\n",
    "    \n",
    "    \n",
    "    with rasterio.open('Climatology.tif','w',\n",
    "                       driver='GTiff',width = nx, height = nx,count = 1,dtype=np.float64,\n",
    "                       affine = Transform,crs = ({'init': 'EPSG:32608'})) as Writer:\n",
    "        Writer.write(out_arr,1)\n",
    "Copy = out_arr+0.0\n",
    "FlatCopy = np.sort(Copy.ravel())[::-1]\n",
    "\n",
    "Cumsum = np.sort(Copy.ravel())[::-1].cumsum()\n",
    "\n",
    "d = {}\n",
    "d['contour'] = []\n",
    "geometry = list()\n",
    "for r in [.25,.50,.70,.80,.90]:\n",
    "    \n",
    "    pct = FlatCopy[np.where(Cumsum < r)]\n",
    "    Mask = out_arr+0.0\n",
    "    Mask[Mask>=pct[-1]] = 1\n",
    "    Mask[Mask<pct[-1]] = np.nan\n",
    "    multipart = 'No'\n",
    "    for shp, val in features.shapes(Mask.astype('int16'), transform=Transform):\n",
    "        if val == 1:\n",
    "            d['contour'].append(r)\n",
    "            Poly = shape(shp)\n",
    "            Poly = Poly.buffer(dx, join_style=1).buffer(-dx, join_style=1)\n",
    "            Poly = Poly.buffer(-dx, join_style=1).buffer(dx, join_style=1)\n",
    "            if multipart == 'No':\n",
    "                geometry.append(Poly)\n",
    "            else:\n",
    "                Multi = []\n",
    "                for part in geometry[-1]:\n",
    "                    Multi.append(part)\n",
    "                Multi.append(Poly)\n",
    "                geometry[-1]=MulitPolygon(Multi)\n",
    "            mulitpart = 'Yes'\n",
    "df = pd.DataFrame(data=d)\n",
    "\n",
    "geo_df = GeoDataFrame(df,crs={'init': 'EPSG:32608'},geometry = geometry)\n",
    "geo_df['area'] =  geo_df.area \n",
    "geo_df.to_file('Climatology.shp', driver = 'ESRI Shapefile')\n",
    "\n",
    "print('Finished!')\n",
    "print(time.time()-Time)\n",
    "plt.figure()\n",
    "shp = GeoDataFrame.from_file('Climatology.shp')\n",
    "shp.plot(color='none')"
   ]
  },
  {
   "cell_type": "code",
   "execution_count": null,
   "metadata": {
    "collapsed": true
   },
   "outputs": [],
   "source": [
    "print('kitty')"
   ]
  },
  {
   "cell_type": "code",
   "execution_count": null,
   "metadata": {
    "collapsed": true
   },
   "outputs": [],
   "source": [
    "i= 2133\n",
    "print(Run['Zm'].iloc[i],Run['Zo'].iloc[i],Run['PBLH'].iloc[i],\n",
    "                            Run['L'].iloc[i],Run['v_var'].iloc[i],Run['u*'].iloc[i],\n",
    "                        Run['wind_dir'].iloc[i])\n",
    "i= 1\n",
    "print(Run['Zm'].iloc[i],Run['Zo'].iloc[i],Run['PBLH'].iloc[i],\n",
    "                            Run['L'].iloc[i],Run['v_var'].iloc[i],Run['u*'].iloc[i],\n",
    "                        Run['wind_dir'].iloc[i])\n",
    "A = Run_Func(i,Run,fp_params)\n",
    "print(A)"
   ]
  },
  {
   "cell_type": "code",
   "execution_count": null,
   "metadata": {
    "collapsed": true
   },
   "outputs": [],
   "source": []
  }
 ],
 "metadata": {
  "kernelspec": {
   "display_name": "Python 3",
   "language": "python",
   "name": "python3"
  },
  "language_info": {
   "codemirror_mode": {
    "name": "ipython",
    "version": 3
   },
   "file_extension": ".py",
   "mimetype": "text/x-python",
   "name": "python",
   "nbconvert_exporter": "python",
   "pygments_lexer": "ipython3",
   "version": "3.6.2"
  }
 },
 "nbformat": 4,
 "nbformat_minor": 2
}
